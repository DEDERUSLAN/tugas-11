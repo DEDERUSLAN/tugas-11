{
 "cells": [
  {
   "cell_type": "markdown",
   "metadata": {},
   "source": [
    "<h3>Nama : Dede Ruslan</h3>\n",
    "<h3>NIM  ; 20220040299</h3>\n",
    "<h3>Kelas :TI22B</h3>\n",
    "<ol>\n",
    "  "
   ]
  },
  {
   "cell_type": "markdown",
   "metadata": {},
   "source": [
    "<h3>Soal Latihan</h3>\n",
    "<ol>\n",
    "    <li>Buatlah fungsi untuk menjumlahkan total nilai dari list</li>\n",
    "    <li>Buatlah fungsi untuk mencari nilai terbesar dari sekumpulan list </li>\n",
    "    <li>Buatlah fungsi untuk menjumlahkan 2 buah list </li>\n",
    "</ol>\n"
   ]
  },
  {
   "cell_type": "code",
   "execution_count": 1,
   "metadata": {},
   "outputs": [
    {
     "name": "stdout",
     "output_type": "stream",
     "text": [
      "15\n"
     ]
    }
   ],
   "source": [
    "#Soal 1\n",
    "nums = [1, 2, 3, 4, 5]\n",
    "def sum_list(numbers):\n",
    "    total = 0\n",
    "    for num in numbers:\n",
    "        total += num\n",
    "    return total\n",
    "\n",
    "result = sum_list(nums)\n",
    "print(result)"
   ]
  },
  {
   "cell_type": "code",
   "execution_count": 2,
   "metadata": {},
   "outputs": [
    {
     "name": "stdout",
     "output_type": "stream",
     "text": [
      "5\n"
     ]
    }
   ],
   "source": [
    "#Soal 2\n",
    "nums = [1, 2, 3, 4, 5]\n",
    "def max_list(numbers):\n",
    "    return max(numbers)\n",
    "\n",
    "result = max_list(nums)\n",
    "print(result)"
   ]
  },
  {
   "cell_type": "code",
   "execution_count": 11,
   "metadata": {},
   "outputs": [
    {
     "name": "stdout",
     "output_type": "stream",
     "text": [
      "[5, 7, 9]\n"
     ]
    }
   ],
   "source": [
    "#Soal 3\n",
    "list1 = [1, 2, 3]\n",
    "list2 = [4, 5, 6]\n",
    "def add_lists(list1, list2):\n",
    "    result = []\n",
    "    for i in range(len(list1)):\n",
    "        result.append(list1[i] + list2[i])\n",
    "    return result\n",
    "\n",
    "result = add_lists(list1, list2)\n",
    "print(result)"
   ]
  },
  {
   "cell_type": "code",
   "execution_count": null,
   "metadata": {},
   "outputs": [],
   "source": []
  }
 ],
 "metadata": {
  "kernelspec": {
   "display_name": "Python 3 (ipykernel)",
   "language": "python",
   "name": "python3"
  },
  "language_info": {
   "codemirror_mode": {
    "name": "ipython",
    "version": 3
   },
   "file_extension": ".py",
   "mimetype": "text/x-python",
   "name": "python",
   "nbconvert_exporter": "python",
   "pygments_lexer": "ipython3",
   "version": "3.9.12"
  }
 },
 "nbformat": 4,
 "nbformat_minor": 4
}
